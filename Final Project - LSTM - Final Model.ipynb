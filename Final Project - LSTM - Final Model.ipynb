{
 "cells": [
  {
   "cell_type": "code",
   "execution_count": 16,
   "metadata": {},
   "outputs": [],
   "source": [
    "import numpy as np\n",
    "import pandas as pd\n",
    "\n",
    "import tensorflow as tf\n",
    "from tensorflow.keras.preprocessing.text import Tokenizer\n",
    "from tensorflow.keras.preprocessing.sequence import pad_sequences\n",
    "from tensorflow.keras.models import Sequential\n",
    "from tensorflow.keras.layers import Dense, Embedding, LSTM, SpatialDropout1D\n",
    "\n",
    "import nltk\n",
    "from nltk.corpus import stopwords\n",
    "STOPWORDS = stopwords.words('english')\n",
    "\n",
    "import matplotlib.pyplot as plt"
   ]
  },
  {
   "cell_type": "code",
   "execution_count": 17,
   "metadata": {},
   "outputs": [],
   "source": [
    "vocab_size = 50000\n",
    "embedding_dim = 64\n",
    "max_length = 15\n",
    "trunc_type = 'post'\n",
    "padding_type = 'post'\n",
    "oov_tok = '<OOV>'\n",
    "training_portion = .8"
   ]
  },
  {
   "cell_type": "code",
   "execution_count": 18,
   "metadata": {
    "scrolled": false
   },
   "outputs": [
    {
     "data": {
      "text/html": [
       "<div>\n",
       "<style scoped>\n",
       "    .dataframe tbody tr th:only-of-type {\n",
       "        vertical-align: middle;\n",
       "    }\n",
       "\n",
       "    .dataframe tbody tr th {\n",
       "        vertical-align: top;\n",
       "    }\n",
       "\n",
       "    .dataframe thead th {\n",
       "        text-align: right;\n",
       "    }\n",
       "</style>\n",
       "<table border=\"1\" class=\"dataframe\">\n",
       "  <thead>\n",
       "    <tr style=\"text-align: right;\">\n",
       "      <th></th>\n",
       "      <th>category</th>\n",
       "      <th>headline</th>\n",
       "      <th>authors</th>\n",
       "      <th>link</th>\n",
       "      <th>short_description</th>\n",
       "      <th>date</th>\n",
       "    </tr>\n",
       "  </thead>\n",
       "  <tbody>\n",
       "    <tr>\n",
       "      <th>0</th>\n",
       "      <td>PARENTING</td>\n",
       "      <td>My Child's Dream: To Have Friends</td>\n",
       "      <td>Louise Kinross, Contributor\\nEditor, BLOOM</td>\n",
       "      <td>https://www.huffingtonpost.com/entry/genetic-d...</td>\n",
       "      <td>We expected that our son's genetic disorder wo...</td>\n",
       "      <td>2012-02-13</td>\n",
       "    </tr>\n",
       "    <tr>\n",
       "      <th>1</th>\n",
       "      <td>POLITICS</td>\n",
       "      <td>Trump Lawyer Shares Image Of Hillary Saying Sh...</td>\n",
       "      <td>Arthur Delaney</td>\n",
       "      <td>https://www.huffingtonpost.com/entry/trump-law...</td>\n",
       "      <td>Not very presidential.</td>\n",
       "      <td>2016-06-28</td>\n",
       "    </tr>\n",
       "    <tr>\n",
       "      <th>2</th>\n",
       "      <td>TRAVEL</td>\n",
       "      <td>Hong Kong's Food Surprises (VIDEO)</td>\n",
       "      <td>La Carmina, Contributor\\nTravel TV host, fashi...</td>\n",
       "      <td>https://www.huffingtonpost.com/entry/hong-kong...</td>\n",
       "      <td>If you go to Hong Kong and eat nothing but Chi...</td>\n",
       "      <td>2012-12-16</td>\n",
       "    </tr>\n",
       "    <tr>\n",
       "      <th>3</th>\n",
       "      <td>ENTERTAINMENT</td>\n",
       "      <td>Golden Globes 2014 Winners Unveiled At 71st An...</td>\n",
       "      <td></td>\n",
       "      <td>https://www.huffingtonpost.com/entry/golden-gl...</td>\n",
       "      <td>Going into the night, \"12 Years A Slave\" and \"...</td>\n",
       "      <td>2014-01-12</td>\n",
       "    </tr>\n",
       "    <tr>\n",
       "      <th>4</th>\n",
       "      <td>ENTERTAINMENT</td>\n",
       "      <td>Ryan Gosling Was Never The Movie Star We Made ...</td>\n",
       "      <td>Lauren Duca</td>\n",
       "      <td>https://www.huffingtonpost.com/entry/middlebro...</td>\n",
       "      <td></td>\n",
       "      <td>2015-04-23</td>\n",
       "    </tr>\n",
       "    <tr>\n",
       "      <th>...</th>\n",
       "      <td>...</td>\n",
       "      <td>...</td>\n",
       "      <td>...</td>\n",
       "      <td>...</td>\n",
       "      <td>...</td>\n",
       "      <td>...</td>\n",
       "    </tr>\n",
       "    <tr>\n",
       "      <th>97086</th>\n",
       "      <td>WELLNESS</td>\n",
       "      <td>Addicted To Coffee? How To Break The Habit For...</td>\n",
       "      <td></td>\n",
       "      <td>https://www.huffingtonpost.com/entry/kick-your...</td>\n",
       "      <td>Quitting caffeine isn't easy, but if you feel ...</td>\n",
       "      <td>2013-08-14</td>\n",
       "    </tr>\n",
       "    <tr>\n",
       "      <th>97087</th>\n",
       "      <td>WELLNESS</td>\n",
       "      <td>Mark Cahill, 51-Year-Old British Man With Para...</td>\n",
       "      <td></td>\n",
       "      <td>https://www.huffingtonpost.com/entry/mark-cahi...</td>\n",
       "      <td>Cahill's operation marks the UK's first hand t...</td>\n",
       "      <td>2013-01-04</td>\n",
       "    </tr>\n",
       "    <tr>\n",
       "      <th>97088</th>\n",
       "      <td>WELLNESS</td>\n",
       "      <td>For Pain Your Mouth... Chew This!</td>\n",
       "      <td>Marjory Abrams, Contributor\\nChief Content Off...</td>\n",
       "      <td>https://www.huffingtonpost.com/entry/cloves-mo...</td>\n",
       "      <td>The power of natural medicine never ceases to ...</td>\n",
       "      <td>2012-11-28</td>\n",
       "    </tr>\n",
       "    <tr>\n",
       "      <th>97089</th>\n",
       "      <td>TRAVEL</td>\n",
       "      <td>Awesome Artful Vintage Olympic Posters</td>\n",
       "      <td>Conde Nast Traveler, Contributor\\nConde Nast T...</td>\n",
       "      <td>https://www.huffingtonpost.com/entry/awesome-a...</td>\n",
       "      <td>There are a lot of advertisements out there fo...</td>\n",
       "      <td>2014-01-29</td>\n",
       "    </tr>\n",
       "    <tr>\n",
       "      <th>97090</th>\n",
       "      <td>ENTERTAINMENT</td>\n",
       "      <td>Kourtney Kardashian Shares Rare Photo With Ado...</td>\n",
       "      <td>Lily Karlin</td>\n",
       "      <td>https://www.huffingtonpost.com/entry/kourtney-...</td>\n",
       "      <td>Serious business.</td>\n",
       "      <td>2015-08-29</td>\n",
       "    </tr>\n",
       "  </tbody>\n",
       "</table>\n",
       "<p>97091 rows × 6 columns</p>\n",
       "</div>"
      ],
      "text/plain": [
       "            category                                           headline  \\\n",
       "0          PARENTING                  My Child's Dream: To Have Friends   \n",
       "1           POLITICS  Trump Lawyer Shares Image Of Hillary Saying Sh...   \n",
       "2             TRAVEL                 Hong Kong's Food Surprises (VIDEO)   \n",
       "3      ENTERTAINMENT  Golden Globes 2014 Winners Unveiled At 71st An...   \n",
       "4      ENTERTAINMENT  Ryan Gosling Was Never The Movie Star We Made ...   \n",
       "...              ...                                                ...   \n",
       "97086       WELLNESS  Addicted To Coffee? How To Break The Habit For...   \n",
       "97087       WELLNESS  Mark Cahill, 51-Year-Old British Man With Para...   \n",
       "97088       WELLNESS                  For Pain Your Mouth... Chew This!   \n",
       "97089         TRAVEL             Awesome Artful Vintage Olympic Posters   \n",
       "97090  ENTERTAINMENT  Kourtney Kardashian Shares Rare Photo With Ado...   \n",
       "\n",
       "                                                 authors  \\\n",
       "0             Louise Kinross, Contributor\\nEditor, BLOOM   \n",
       "1                                         Arthur Delaney   \n",
       "2      La Carmina, Contributor\\nTravel TV host, fashi...   \n",
       "3                                                          \n",
       "4                                            Lauren Duca   \n",
       "...                                                  ...   \n",
       "97086                                                      \n",
       "97087                                                      \n",
       "97088  Marjory Abrams, Contributor\\nChief Content Off...   \n",
       "97089  Conde Nast Traveler, Contributor\\nConde Nast T...   \n",
       "97090                                        Lily Karlin   \n",
       "\n",
       "                                                    link  \\\n",
       "0      https://www.huffingtonpost.com/entry/genetic-d...   \n",
       "1      https://www.huffingtonpost.com/entry/trump-law...   \n",
       "2      https://www.huffingtonpost.com/entry/hong-kong...   \n",
       "3      https://www.huffingtonpost.com/entry/golden-gl...   \n",
       "4      https://www.huffingtonpost.com/entry/middlebro...   \n",
       "...                                                  ...   \n",
       "97086  https://www.huffingtonpost.com/entry/kick-your...   \n",
       "97087  https://www.huffingtonpost.com/entry/mark-cahi...   \n",
       "97088  https://www.huffingtonpost.com/entry/cloves-mo...   \n",
       "97089  https://www.huffingtonpost.com/entry/awesome-a...   \n",
       "97090  https://www.huffingtonpost.com/entry/kourtney-...   \n",
       "\n",
       "                                       short_description       date  \n",
       "0      We expected that our son's genetic disorder wo... 2012-02-13  \n",
       "1                                 Not very presidential. 2016-06-28  \n",
       "2      If you go to Hong Kong and eat nothing but Chi... 2012-12-16  \n",
       "3      Going into the night, \"12 Years A Slave\" and \"... 2014-01-12  \n",
       "4                                                        2015-04-23  \n",
       "...                                                  ...        ...  \n",
       "97086  Quitting caffeine isn't easy, but if you feel ... 2013-08-14  \n",
       "97087  Cahill's operation marks the UK's first hand t... 2013-01-04  \n",
       "97088  The power of natural medicine never ceases to ... 2012-11-28  \n",
       "97089  There are a lot of advertisements out there fo... 2014-01-29  \n",
       "97090                                  Serious business. 2015-08-29  \n",
       "\n",
       "[97091 rows x 6 columns]"
      ]
     },
     "execution_count": 18,
     "metadata": {},
     "output_type": "execute_result"
    }
   ],
   "source": [
    "news_json = pd.read_json(\"News_Category_Dataset_v2.json\", lines=True)\n",
    "news_json['category'] = news_json['category'].str.split(' ').str[0]\n",
    "news_json = news_json.query('category == \"POLITICS\" or category == \"WELLNESS\" or category == \"ENTERTAINMENT\" or category == \"TRAVEL\" or category == \"STYLE\" or category == \"PARENTING\"')\n",
    "news_json = news_json.sample(frac=1, random_state=100).reset_index(drop=True)\n",
    "news_json['headline'] = news_json['headline'].apply(lambda x: ' '.join([word for word in x.split() if word not in (STOPWORDS)]))\n",
    "news_json"
   ]
  },
  {
   "cell_type": "code",
   "execution_count": 19,
   "metadata": {},
   "outputs": [
    {
     "data": {
      "text/html": [
       "<div>\n",
       "<style scoped>\n",
       "    .dataframe tbody tr th:only-of-type {\n",
       "        vertical-align: middle;\n",
       "    }\n",
       "\n",
       "    .dataframe tbody tr th {\n",
       "        vertical-align: top;\n",
       "    }\n",
       "\n",
       "    .dataframe thead th {\n",
       "        text-align: right;\n",
       "    }\n",
       "</style>\n",
       "<table border=\"1\" class=\"dataframe\">\n",
       "  <thead>\n",
       "    <tr style=\"text-align: right;\">\n",
       "      <th></th>\n",
       "      <th>category</th>\n",
       "      <th>headline</th>\n",
       "    </tr>\n",
       "  </thead>\n",
       "  <tbody>\n",
       "    <tr>\n",
       "      <th>0</th>\n",
       "      <td>PARENTING</td>\n",
       "      <td>My Child's Dream: To Have Friends</td>\n",
       "    </tr>\n",
       "    <tr>\n",
       "      <th>1</th>\n",
       "      <td>POLITICS</td>\n",
       "      <td>Trump Lawyer Shares Image Of Hillary Saying Sh...</td>\n",
       "    </tr>\n",
       "    <tr>\n",
       "      <th>2</th>\n",
       "      <td>TRAVEL</td>\n",
       "      <td>Hong Kong's Food Surprises (VIDEO)</td>\n",
       "    </tr>\n",
       "    <tr>\n",
       "      <th>3</th>\n",
       "      <td>ENTERTAINMENT</td>\n",
       "      <td>Golden Globes 2014 Winners Unveiled At 71st An...</td>\n",
       "    </tr>\n",
       "    <tr>\n",
       "      <th>4</th>\n",
       "      <td>ENTERTAINMENT</td>\n",
       "      <td>Ryan Gosling Was Never The Movie Star We Made ...</td>\n",
       "    </tr>\n",
       "    <tr>\n",
       "      <th>5</th>\n",
       "      <td>WELLNESS</td>\n",
       "      <td>Leadership You</td>\n",
       "    </tr>\n",
       "    <tr>\n",
       "      <th>6</th>\n",
       "      <td>PARENTING</td>\n",
       "      <td>When My Son Became A Biter</td>\n",
       "    </tr>\n",
       "    <tr>\n",
       "      <th>7</th>\n",
       "      <td>TRAVEL</td>\n",
       "      <td>The Best Time To Book A Plane Ticket, Accordin...</td>\n",
       "    </tr>\n",
       "    <tr>\n",
       "      <th>8</th>\n",
       "      <td>ENTERTAINMENT</td>\n",
       "      <td>Beyoncé Addresses Elevator Incident In 'Flawle...</td>\n",
       "    </tr>\n",
       "    <tr>\n",
       "      <th>9</th>\n",
       "      <td>POLITICS</td>\n",
       "      <td>CHARLIE COOK: Hillary 'Rusty,' 'Has Lost Her F...</td>\n",
       "    </tr>\n",
       "    <tr>\n",
       "      <th>10</th>\n",
       "      <td>PARENTING</td>\n",
       "      <td>Best Parenting Tweets: What Moms And Dads Said...</td>\n",
       "    </tr>\n",
       "    <tr>\n",
       "      <th>11</th>\n",
       "      <td>STYLE</td>\n",
       "      <td>Laura Nekrasoe, Waitress, Swears By DIY Face M...</td>\n",
       "    </tr>\n",
       "    <tr>\n",
       "      <th>12</th>\n",
       "      <td>TRAVEL</td>\n",
       "      <td>Exploring Bora Bora And Tikehau In French Poly...</td>\n",
       "    </tr>\n",
       "    <tr>\n",
       "      <th>13</th>\n",
       "      <td>ENTERTAINMENT</td>\n",
       "      <td>Tom Hanks Gives Nervous America The Pre-Electi...</td>\n",
       "    </tr>\n",
       "    <tr>\n",
       "      <th>14</th>\n",
       "      <td>PARENTING</td>\n",
       "      <td>Stephen Colbert's Guide To Being The Perfect Dad</td>\n",
       "    </tr>\n",
       "    <tr>\n",
       "      <th>15</th>\n",
       "      <td>PARENTING</td>\n",
       "      <td>6 Reasons Hit Farmers Market Your Baby</td>\n",
       "    </tr>\n",
       "    <tr>\n",
       "      <th>16</th>\n",
       "      <td>STYLE</td>\n",
       "      <td>My Fashion Show Honored Grandma Lucy</td>\n",
       "    </tr>\n",
       "    <tr>\n",
       "      <th>17</th>\n",
       "      <td>ENTERTAINMENT</td>\n",
       "      <td>Celebrities Send Messages Of Support To Bullie...</td>\n",
       "    </tr>\n",
       "    <tr>\n",
       "      <th>18</th>\n",
       "      <td>WELLNESS</td>\n",
       "      <td>Pacemaker: Why Did The Pope Have The Device In...</td>\n",
       "    </tr>\n",
       "    <tr>\n",
       "      <th>19</th>\n",
       "      <td>POLITICS</td>\n",
       "      <td>Military Veterans Earn The Most In These States</td>\n",
       "    </tr>\n",
       "  </tbody>\n",
       "</table>\n",
       "</div>"
      ],
      "text/plain": [
       "         category                                           headline\n",
       "0       PARENTING                  My Child's Dream: To Have Friends\n",
       "1        POLITICS  Trump Lawyer Shares Image Of Hillary Saying Sh...\n",
       "2          TRAVEL                 Hong Kong's Food Surprises (VIDEO)\n",
       "3   ENTERTAINMENT  Golden Globes 2014 Winners Unveiled At 71st An...\n",
       "4   ENTERTAINMENT  Ryan Gosling Was Never The Movie Star We Made ...\n",
       "5        WELLNESS                                     Leadership You\n",
       "6       PARENTING                         When My Son Became A Biter\n",
       "7          TRAVEL  The Best Time To Book A Plane Ticket, Accordin...\n",
       "8   ENTERTAINMENT  Beyoncé Addresses Elevator Incident In 'Flawle...\n",
       "9        POLITICS  CHARLIE COOK: Hillary 'Rusty,' 'Has Lost Her F...\n",
       "10      PARENTING  Best Parenting Tweets: What Moms And Dads Said...\n",
       "11          STYLE  Laura Nekrasoe, Waitress, Swears By DIY Face M...\n",
       "12         TRAVEL  Exploring Bora Bora And Tikehau In French Poly...\n",
       "13  ENTERTAINMENT  Tom Hanks Gives Nervous America The Pre-Electi...\n",
       "14      PARENTING   Stephen Colbert's Guide To Being The Perfect Dad\n",
       "15      PARENTING             6 Reasons Hit Farmers Market Your Baby\n",
       "16          STYLE               My Fashion Show Honored Grandma Lucy\n",
       "17  ENTERTAINMENT  Celebrities Send Messages Of Support To Bullie...\n",
       "18       WELLNESS  Pacemaker: Why Did The Pope Have The Device In...\n",
       "19       POLITICS    Military Veterans Earn The Most In These States"
      ]
     },
     "execution_count": 19,
     "metadata": {},
     "output_type": "execute_result"
    }
   ],
   "source": [
    "dataset = news_json[['category', 'headline']]\n",
    "dataset[0:20]"
   ]
  },
  {
   "cell_type": "code",
   "execution_count": 20,
   "metadata": {},
   "outputs": [
    {
     "data": {
      "text/plain": [
       "(            category                                           headline\n",
       " 0          PARENTING                  My Child's Dream: To Have Friends\n",
       " 1           POLITICS  Trump Lawyer Shares Image Of Hillary Saying Sh...\n",
       " 2             TRAVEL                 Hong Kong's Food Surprises (VIDEO)\n",
       " 3      ENTERTAINMENT  Golden Globes 2014 Winners Unveiled At 71st An...\n",
       " 4      ENTERTAINMENT  Ryan Gosling Was Never The Movie Star We Made ...\n",
       " ...              ...                                                ...\n",
       " 77667       POLITICS                      Behemoth Bathrobe: A Dialogue\n",
       " 77668       WELLNESS  Day Five: Super Bowl XLVI Guilt-Free Cauliflow...\n",
       " 77669      PARENTING  Tracy Moutafis, Mom, Dances To 'Celebration' A...\n",
       " 77670       POLITICS  Anthony Weiner Gets Prison Time For Sexting A ...\n",
       " 77671       WELLNESS                          Deep Listening: Ear Heart\n",
       " \n",
       " [77672 rows x 2 columns],\n",
       "             category                                           headline\n",
       " 77672      PARENTING             Retraining My Mommy Brain 5 Easy Steps\n",
       " 77673       WELLNESS       Handling Disappointment -- Creating Lemonade\n",
       " 77674          STYLE  New York Fashion Week: Kellan Lutz, Ryan Locht...\n",
       " 77675          STYLE  I Exceptional Living - The Exceptional Lives N...\n",
       " 77676       POLITICS  Floyd Mayweather Defended Donald Trump's 'Grab...\n",
       " ...              ...                                                ...\n",
       " 97086       WELLNESS  Addicted To Coffee? How To Break The Habit For...\n",
       " 97087       WELLNESS  Mark Cahill, 51-Year-Old British Man With Para...\n",
       " 97088       WELLNESS                  For Pain Your Mouth... Chew This!\n",
       " 97089         TRAVEL             Awesome Artful Vintage Olympic Posters\n",
       " 97090  ENTERTAINMENT  Kourtney Kardashian Shares Rare Photo With Ado...\n",
       " \n",
       " [19419 rows x 2 columns])"
      ]
     },
     "execution_count": 20,
     "metadata": {},
     "output_type": "execute_result"
    }
   ],
   "source": [
    "train_size = int(len(dataset) * 0.8)\n",
    "train_data = dataset[0:train_size]\n",
    "test_data = dataset[train_size:]\n",
    "train_data, test_data"
   ]
  },
  {
   "cell_type": "code",
   "execution_count": 21,
   "metadata": {},
   "outputs": [
    {
     "data": {
      "text/plain": [
       "{'<OOV>': 1,\n",
       " 'the': 2,\n",
       " 'to': 3,\n",
       " 'a': 4,\n",
       " 'in': 5,\n",
       " 'of': 6,\n",
       " 'for': 7,\n",
       " 'is': 8,\n",
       " 'and': 9,\n",
       " 'trump': 10}"
      ]
     },
     "execution_count": 21,
     "metadata": {},
     "output_type": "execute_result"
    }
   ],
   "source": [
    "tokenizer = Tokenizer(num_words = vocab_size, oov_token=oov_tok)\n",
    "tokenizer.fit_on_texts(train_data['headline'])\n",
    "word_index = tokenizer.word_index\n",
    "dict(list(word_index.items())[0:10])"
   ]
  },
  {
   "cell_type": "code",
   "execution_count": 22,
   "metadata": {},
   "outputs": [
    {
     "data": {
      "text/plain": [
       "[[43, 1739, 847, 3, 46, 781],\n",
       " [10, 922, 465, 2090, 6, 64, 1122, 207, 24075, 55, 24076],\n",
       " [5095, 17808, 190, 2051, 29],\n",
       " [546, 785, 244, 1764, 7609, 19, 24077, 3049, 284, 2526],\n",
       " [242, 4202, 81, 208, 2, 238, 197, 49, 289, 264, 40, 3, 25],\n",
       " [2326, 14],\n",
       " [86, 43, 339, 1446, 4, 24078],\n",
       " [2, 38, 74, 3, 512, 4, 1251, 2858, 719, 3, 16, 79],\n",
       " [913, 2859, 7610, 3482, 5, 14548, 5325, 12396, 1716, 2052],\n",
       " [2053, 3219, 64, 24079, 109, 7129, 203, 32, 24080]]"
      ]
     },
     "execution_count": 22,
     "metadata": {},
     "output_type": "execute_result"
    }
   ],
   "source": [
    "train_sequences = tokenizer.texts_to_sequences(train_data['headline'])\n",
    "train_sequences[0:10]"
   ]
  },
  {
   "cell_type": "code",
   "execution_count": 23,
   "metadata": {},
   "outputs": [
    {
     "data": {
      "text/plain": [
       "array([[ 1175,  1516,   404,   771,    17,    84,     9,   913,  1790,\n",
       "           41,    13,   765,   117,   755,     0],\n",
       "       [   22,    10,  1128,     3,  3946, 24107,    53,  7144,    84,\n",
       "         1742,    32,   565,     0,     0,     0],\n",
       "       [14562, 17824,    34,    64,   640,  5100,  1074,  8213,   264,\n",
       "           30,     3,   336,  8927,  5644,     3],\n",
       "       [  131,     9,  2471,     0,     0,     0,     0,     0,     0,\n",
       "            0,     0,     0,     0,     0,     0],\n",
       "       [ 1200,  2862,   553,   199,     0,     0,     0,     0,     0,\n",
       "            0,     0,     0,     0,     0,     0],\n",
       "       [    2,  1691,     6, 14563,    12,     0,     0,     0,     0,\n",
       "            0,     0,     0,     0,     0,     0],\n",
       "       [   10,  2194,   747,   161,    11,   686,    39,    89,  5939,\n",
       "         6291,     6,  2092,     0,     0,     0],\n",
       "       [   50,  2700,  1367,     6,   236,  4361,    44,  1047,     3,\n",
       "          328,  1130,     0,     0,     0,     0],\n",
       "       [24108,  9808, 24109,  9809, 12407,  1417,    18,   103, 24110,\n",
       "            0,     0,     0,     0,     0,     0],\n",
       "       [10923, 24111,  3050,     5,     2,  4073,   162,     0,     0,\n",
       "            0,     0,     0,     0,     0,     0]])"
      ]
     },
     "execution_count": 23,
     "metadata": {},
     "output_type": "execute_result"
    }
   ],
   "source": [
    "train_pad = pad_sequences(train_sequences, maxlen=max_length, padding=padding_type, truncating=trunc_type)\n",
    "train_pad[100:110]"
   ]
  },
  {
   "cell_type": "code",
   "execution_count": 24,
   "metadata": {},
   "outputs": [
    {
     "data": {
      "text/plain": [
       "array([[ 4589, 10458,  2113,  7757,     0,     0,     0,     0,     0,\n",
       "            0,     0,     0,     0,     0,     0],\n",
       "       [   16,   165,    76,    80, 14584, 14585,   242,  5501,     9,\n",
       "           31,   712,  1910,   501,    12,     0],\n",
       "       [   42,  4565,   390,     2,  4565,   553,  2938, 28757,     1,\n",
       "         9297,  3565,  4124,  1048,   556,     1],\n",
       "       [18662, 18663,  6631,    22,    44, 19533,  6564,   748,    27,\n",
       "          350,   156,   493,     0,     0,     0],\n",
       "       [  600,  1537,    35,   671,   760,    13,    10,   871,  2536,\n",
       "           50,    87,  2498,     0,     0,     0],\n",
       "       [ 9788,   650,   294,     6,    77,   837,  8012,    77,   183,\n",
       "          221,     0,     0,     0,     0,     0],\n",
       "       [   28,    42,  5400,   402,   221,   482,  1689,   392,     0,\n",
       "            0,     0,     0,     0,     0,     0],\n",
       "       [   54,    34,  4776,    35,    25,   439,   265,  2718,  8161,\n",
       "            7, 14804,     0,     0,     0,     0],\n",
       "       [ 1127, 10381,  1092,  4539,  5702,   157,    68,    17,   824,\n",
       "          622,   614,     0,     0,     0,     0]])"
      ]
     },
     "execution_count": 24,
     "metadata": {},
     "output_type": "execute_result"
    }
   ],
   "source": [
    "test_sequences = tokenizer.texts_to_sequences(test_data['headline'])\n",
    "test_pad = pad_sequences(test_sequences, maxlen=max_length, padding=padding_type, truncating=trunc_type)\n",
    "\n",
    "test_pad[1:10]"
   ]
  },
  {
   "cell_type": "code",
   "execution_count": 25,
   "metadata": {},
   "outputs": [
    {
     "data": {
      "text/plain": [
       "array([[6],\n",
       "       [1],\n",
       "       [5],\n",
       "       [3],\n",
       "       [3],\n",
       "       [2],\n",
       "       [6],\n",
       "       [5],\n",
       "       [3],\n",
       "       [1],\n",
       "       [6]])"
      ]
     },
     "execution_count": 25,
     "metadata": {},
     "output_type": "execute_result"
    }
   ],
   "source": [
    "category_tokenizer = Tokenizer()\n",
    "category_tokenizer.fit_on_texts(dataset['category'])\n",
    "\n",
    "train_category_sequence = np.array(category_tokenizer.texts_to_sequences(train_data['category']))\n",
    "test_category_sequence = np.array(category_tokenizer.texts_to_sequences(test_data['category']))\n",
    "train_category_sequence[0:11]"
   ]
  },
  {
   "cell_type": "code",
   "execution_count": 26,
   "metadata": {},
   "outputs": [
    {
     "name": "stdout",
     "output_type": "stream",
     "text": [
      "Model: \"sequential_1\"\n",
      "_________________________________________________________________\n",
      "Layer (type)                 Output Shape              Param #   \n",
      "=================================================================\n",
      "embedding_1 (Embedding)      (None, 15, 64)            3200000   \n",
      "_________________________________________________________________\n",
      "spatial_dropout1d_1 (Spatial (None, 15, 64)            0         \n",
      "_________________________________________________________________\n",
      "lstm_1 (LSTM)                (None, 64)                33024     \n",
      "_________________________________________________________________\n",
      "dense_2 (Dense)              (None, 64)                4160      \n",
      "_________________________________________________________________\n",
      "dense_3 (Dense)              (None, 7)                 455       \n",
      "=================================================================\n",
      "Total params: 3,237,639\n",
      "Trainable params: 3,237,639\n",
      "Non-trainable params: 0\n",
      "_________________________________________________________________\n"
     ]
    }
   ],
   "source": [
    "model = Sequential()\n",
    "model.add(Embedding(vocab_size, embedding_dim, input_length=15))\n",
    "model.add(SpatialDropout1D(0.2))\n",
    "model.add(LSTM(embedding_dim))\n",
    "model.add(Dense(embedding_dim, activation='relu'))\n",
    "model.add(Dense(7, activation='softmax'))\n",
    "model.compile(loss='sparse_categorical_crossentropy', optimizer='adam', metrics=['accuracy'])\n",
    "model.summary()"
   ]
  },
  {
   "cell_type": "code",
   "execution_count": 27,
   "metadata": {},
   "outputs": [
    {
     "name": "stdout",
     "output_type": "stream",
     "text": [
      "Train on 77672 samples, validate on 19419 samples\n",
      "Epoch 1/10\n",
      "77672/77672 - 49s - loss: 0.7654 - accuracy: 0.7274 - val_loss: 0.4890 - val_accuracy: 0.8376\n",
      "Epoch 2/10\n",
      "77672/77672 - 47s - loss: 0.3691 - accuracy: 0.8824 - val_loss: 0.4465 - val_accuracy: 0.8546\n",
      "Epoch 3/10\n",
      "77672/77672 - 49s - loss: 0.2501 - accuracy: 0.9203 - val_loss: 0.4571 - val_accuracy: 0.8529\n",
      "Epoch 4/10\n",
      "77672/77672 - 48s - loss: 0.1871 - accuracy: 0.9414 - val_loss: 0.5015 - val_accuracy: 0.8488\n",
      "Epoch 5/10\n",
      "77672/77672 - 49s - loss: 0.1518 - accuracy: 0.9522 - val_loss: 0.5588 - val_accuracy: 0.8487\n",
      "Epoch 6/10\n",
      "77672/77672 - 49s - loss: 0.1231 - accuracy: 0.9606 - val_loss: 0.6090 - val_accuracy: 0.8414\n",
      "Epoch 7/10\n",
      "77672/77672 - 49s - loss: 0.1044 - accuracy: 0.9658 - val_loss: 0.6378 - val_accuracy: 0.8426\n",
      "Epoch 8/10\n",
      "77672/77672 - 48s - loss: 0.0885 - accuracy: 0.9710 - val_loss: 0.7096 - val_accuracy: 0.8414\n",
      "Epoch 9/10\n",
      "77672/77672 - 49s - loss: 0.0763 - accuracy: 0.9740 - val_loss: 0.7808 - val_accuracy: 0.8395\n",
      "Epoch 10/10\n",
      "77672/77672 - 48s - loss: 0.0672 - accuracy: 0.9770 - val_loss: 0.8250 - val_accuracy: 0.8351\n"
     ]
    }
   ],
   "source": [
    "epochs = 10\n",
    "history = model.fit(train_pad, train_category_sequence, epochs=epochs, validation_data=(test_pad, test_category_sequence), verbose=2)\n"
   ]
  },
  {
   "cell_type": "code",
   "execution_count": 13,
   "metadata": {},
   "outputs": [
    {
     "data": {
      "image/png": "[encoded data removed]",
      "text/plain": [
       "<Figure size 432x288 with 1 Axes>"
      ]
     },
     "metadata": {
      "needs_background": "light"
     },
     "output_type": "display_data"
    },
    {
     "data": {
      "image/png": "[encoded data removed]",
      "text/plain": [
       "<Figure size 432x288 with 1 Axes>"
      ]
     },
     "metadata": {
      "needs_background": "light"
     },
     "output_type": "display_data"
    }
   ],
   "source": [
    "def plot_graphs(history, string):\n",
    "  plt.plot(history.history[string])\n",
    "  plt.plot(history.history['val_'+string])\n",
    "  plt.xlabel(\"Epochs\")\n",
    "  plt.ylabel(string)\n",
    "  plt.legend([string, 'val_'+string])\n",
    "  plt.show()\n",
    "  \n",
    "plot_graphs(history, \"accuracy\")\n",
    "plot_graphs(history, \"loss\")"
   ]
  },
  {
   "cell_type": "code",
   "execution_count": 28,
   "metadata": {},
   "outputs": [
    {
     "name": "stdout",
     "output_type": "stream",
     "text": [
      "[[1.8200012e-18 9.9986637e-01 6.6346598e-05 4.4178163e-05 1.6246580e-05\n",
      "  3.6224274e-06 3.1784684e-06]] POLITICS\n"
     ]
    }
   ],
   "source": [
    "new_headline = ['Biden to host two crucial Democratic senators Monday to talk infrastructure at start of critical week']\n",
    "seq = tokenizer.texts_to_sequences(new_headline)\n",
    "padded = pad_sequences(seq, maxlen=15)\n",
    "pred = model.predict(padded)\n",
    "labels = [\"NONE\", \"POLITICS\", \"WELLNESS\", \"ENTERTAINMENT\", \"STYLE\", \"TRAVEL\", \"PARENTING\"]\n",
    "print(pred, labels[np.argmax(pred)])"
   ]
  },
  {
   "cell_type": "code",
   "execution_count": 29,
   "metadata": {},
   "outputs": [
    {
     "name": "stdout",
     "output_type": "stream",
     "text": [
      "[[3.0213947e-23 5.4781340e-06 7.2920829e-04 2.6875494e-05 8.0916384e-04\n",
      "  9.9489200e-01 3.5372078e-03]] TRAVEL\n"
     ]
    }
   ],
   "source": [
    "another_headline = ['Bird strike forces Delta Air Lines flight from Atlanta to turn around']\n",
    "seq = tokenizer.texts_to_sequences(another_headline)\n",
    "padded = pad_sequences(seq, maxlen=15)\n",
    "pred = model.predict(padded)\n",
    "labels = [\"NONE\", \"POLITICS\", \"WELLNESS\", \"ENTERTAINMENT\", \"STYLE\", \"TRAVEL\", \"PARENTING\"]\n",
    "print(pred, labels[np.argmax(pred)])"
   ]
  },
  {
   "cell_type": "code",
   "execution_count": null,
   "metadata": {},
   "outputs": [],
   "source": []
  }
 ],
 "metadata": {
  "kernelspec": {
   "display_name": "Python 3",
   "language": "python",
   "name": "python3"
  },
  "language_info": {
   "codemirror_mode": {
    "name": "ipython",
    "version": 3
   },
   "file_extension": ".py",
   "mimetype": "text/x-python",
   "name": "python",
   "nbconvert_exporter": "python",
   "pygments_lexer": "ipython3",
   "version": "3.6.13"
  }
 },
 "nbformat": 4,
 "nbformat_minor": 4
}
